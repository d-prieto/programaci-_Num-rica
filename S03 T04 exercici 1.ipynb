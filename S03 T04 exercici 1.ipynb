{
 "cells": [
  {
   "cell_type": "markdown",
   "metadata": {},
   "source": [
    "# Exercici 1\n",
    "\n",
    "Crea una funció que donat un Array d’una dimensió, et faci un resum estadístic bàsic de les dades. Si detecta que l’array té més d’una dimensió, ha de mostrar un missatge d’error."
   ]
  },
  {
   "cell_type": "code",
   "execution_count": 2,
   "metadata": {},
   "outputs": [],
   "source": [
    "import numpy as np"
   ]
  },
  {
   "cell_type": "code",
   "execution_count": 3,
   "metadata": {},
   "outputs": [
    {
     "name": "stdout",
     "output_type": "stream",
     "text": [
      "[1 2 3 4 5]\n"
     ]
    }
   ],
   "source": [
    "arr = np.array([1, 2, 3, 4, 5])\n",
    "\n",
    "print(arr)\n"
   ]
  },
  {
   "cell_type": "markdown",
   "metadata": {},
   "source": [
    "Como esto se me escapa voy a ir tomando apuntes poco a poco y al final de este notebook estará la solución, pero voy construyéndola de a poco. Primero voy a hacer una funcion que te diga si un algo es un array de dimension 1 o no. Estoy usando esto: https://www.w3schools.com/python/numpy/numpy_creating_arrays.asp (donde pone check number of dimensions) y que usa ndim"
   ]
  },
  {
   "cell_type": "code",
   "execution_count": 4,
   "metadata": {},
   "outputs": [
    {
     "name": "stdout",
     "output_type": "stream",
     "text": [
      "0\n",
      "1\n",
      "2\n",
      "3\n"
     ]
    }
   ],
   "source": [
    "a = np.array(42)\n",
    "b = np.array([1, 2, 3, 4, 5])\n",
    "c = np.array([[1, 2, 3], [4, 5, 6]])\n",
    "d = np.array([[[1, 2, 3], [4, 5, 6]], [[1, 2, 3], [4, 5, 6]]])\n",
    "\n",
    "print(a.ndim)\n",
    "print(b.ndim)\n",
    "print(c.ndim)\n",
    "print(d.ndim) "
   ]
  },
  {
   "cell_type": "code",
   "execution_count": 13,
   "metadata": {},
   "outputs": [
    {
     "name": "stdout",
     "output_type": "stream",
     "text": [
      "El array no tiene una y solo 1 dimension\n",
      "El array es de una dimension\n",
      "El array no tiene una y solo 1 dimension\n",
      "El array no tiene una y solo 1 dimension\n",
      "Lo que has mandado no es ni tan siquiera un Array\n",
      "Lo que has mandado no es ni tan siquiera un Array\n",
      "Lo que has mandado no es ni tan siquiera un Array\n"
     ]
    }
   ],
   "source": [
    "def arrayDeUnaDimension(prueba):\n",
    "    if type(prueba) is not np.ndarray:\n",
    "        print(\"Lo que has mandado no es ni tan siquiera un Array\")\n",
    "    elif prueba.ndim != 1:\n",
    "        print(\"El array no tiene una y solo 1 dimension\")\n",
    "    else:\n",
    "        print(\"El array es de una dimension\")\n",
    "\n",
    "arrayDeUnaDimension(a)\n",
    "arrayDeUnaDimension(b)\n",
    "arrayDeUnaDimension(c)\n",
    "arrayDeUnaDimension(d)\n",
    "arrayDeUnaDimension(\"Charquicán\")\n",
    "arrayDeUnaDimension(44)\n",
    "arrayDeUnaDimension((44,33,22))"
   ]
  },
  {
   "cell_type": "markdown",
   "metadata": {},
   "source": [
    "He utilizado de base elementos del ejercicio 5 anterior de la prueba anterior para revisar también la clase de objeto. Al haber estado trabajando muchas veces con lenguajes fuertemente tipados como C o Java me pone nervioso que puedas mandar a una función CUALQUIER cosa así como así. \n",
    "\n",
    "https://github.com/d-prieto/estructures_control/blob/main/S03%20T03%20Exercici%205.ipynb (de aquí lo saqué y tuneé)\n",
    "\n",
    "Lo siguiente va a ser revisar las opciones que tenemos para tratar este array. Según la cheatsheet ( http://datacamp-community-prod.s3.amazonaws.com/da466534-51fe-4c6d-b0cb-154f4782eb54) tenemos estas opciones\n",
    "\n",
    "a.sum() Array-wise sum\n",
    "a.min() Array-wise minimum value\n",
    "a.max() máximo (si le quieres decir el eje pones axis = 0,1 o 2)\n",
    "b.cumsum(axis) suma acumulativa de elementos\n",
    "a.mean() media\n",
    "b.median() mediana\n",
    "a.corrcoef() coeficiente de corelación\n",
    "np.std(a) desviación típica\n",
    "\n",
    "Así que vamos a ello:\n"
   ]
  },
  {
   "cell_type": "code",
   "execution_count": 35,
   "metadata": {},
   "outputs": [
    {
     "name": "stdout",
     "output_type": "stream",
     "text": [
      "Has mandado este array de 1 dimensión: \n",
      "[1 2 3 4 5]\n",
      "Y sus atributos estadísticos son:\n",
      "Suma\n",
      "15\n",
      "Mínimo\n",
      "1\n",
      "Máximo\n",
      "5\n",
      "media\n",
      "3.0\n",
      "Suma acumulada\n",
      "[ 1  3  6 10 15]\n",
      "Mediana\n",
      "3.0\n",
      "Coeficiente de correlación:\n",
      "1.0\n",
      "Desviacion típica\n",
      "1.4142135623730951\n",
      "-------------------------\n"
     ]
    }
   ],
   "source": [
    "def estadisticasArray1D(array):\n",
    "    if type(array) is not np.ndarray:\n",
    "        print(\"Lo que has mandado no es ni tan siquiera un Array\")\n",
    "        return\n",
    "    elif array.ndim != 1:\n",
    "        print(\"El array no tiene una y solo 1 dimension\")\n",
    "        return\n",
    "    print(\"Has mandado este array de 1 dimensión: \")\n",
    "    print(array)\n",
    "    print(\"Y sus atributos estadísticos son:\")\n",
    "    print(\"Suma\")\n",
    "    print(array.sum())\n",
    "    print(\"Mínimo\")\n",
    "    print(array.min())\n",
    "    print(\"Máximo\")\n",
    "    print(array.max())\n",
    "    print(\"media\")\n",
    "    print(array.mean())\n",
    "    print(\"Suma acumulada\")\n",
    "    print(array.cumsum())\n",
    "\n",
    "    print(\"Mediana\")\n",
    "    print(np.median(array))\n",
    "    print(\"Coeficiente de correlación:\")\n",
    "    print(np.corrcoef(array))\n",
    "    print(\"Desviacion típica\")\n",
    "    print(np.std(array))\n",
    "    print(\"-------------------------\")\n",
    "    \n",
    "estadisticasArray1D(b)    "
   ]
  },
  {
   "cell_type": "markdown",
   "metadata": {},
   "source": [
    "Por lo visto da error al encontrar la mediana, en el ejemplo sale un array de 2 dimensiones así que a lo mejor es eso. También el coeficiente de correlación.\n",
    "\n",
    "```python\n",
    "    #Esto da error porque razones\n",
    "   # print(\"Mediana\")\n",
    "   # print(array.median())\n",
    "   #  print(\"Coeficiente de correlación:\")\n",
    "    # print(array.corrcoef())\n",
    "    #Esto da error porque razones\n",
    "\n",
    "```\n",
    "\n",
    "Encontrado. Las cheatsheets están mal. No es array.median o array.corrcoef sino np.median(array) o np.corrcoef(array)"
   ]
  },
  {
   "cell_type": "markdown",
   "metadata": {},
   "source": [
    "## Extra placeholders\n",
    "\n",
    "Para probar los rellenadores voy a probarlos y mandarlos por la funciòn tan flama que me he hecho antes\n",
    "\n",
    "```python\n",
    "    np.zeros((3,4))                Create an array of zeros\n",
    "    np.ones((2,3,4),dtype=np.int16) Create an array of ones\n",
    "   d = np.arange(10,25,5)         Create an array of evenly   spaced values (step value) \n",
    "   np.linspace(0,2,9)             Create an array of evenly   spaced values (number of samples)\n",
    "    e = np.full((2,2),7)           Create a constant array    \n",
    "   f = np.eye(2)                  Create a 2X2 identity matrix\n",
    "    np.random.random((2,2))        Create an array with random values\n",
    "    np.empty((3,2))                Create an empty array\n",
    "```"
   ]
  },
  {
   "cell_type": "code",
   "execution_count": 39,
   "metadata": {},
   "outputs": [
    {
     "name": "stdout",
     "output_type": "stream",
     "text": [
      "[[0. 0. 0. 0. 0.]]\n",
      "Has mandado este array de 1 dimensión: \n",
      "[0. 0. 0. 0. 0.]\n",
      "Y sus atributos estadísticos son:\n",
      "Suma\n",
      "0.0\n",
      "Mínimo\n",
      "0.0\n",
      "Máximo\n",
      "0.0\n",
      "media\n",
      "0.0\n",
      "Suma acumulada\n",
      "[0. 0. 0. 0. 0.]\n",
      "Mediana\n",
      "0.0\n",
      "Coeficiente de correlación:\n",
      "nan\n",
      "Desviacion típica\n",
      "0.0\n",
      "-------------------------\n",
      "Has mandado este array de 1 dimensión: \n",
      "[1. 1. 1. 1. 1. 1. 1. 1. 1. 1. 1. 1. 1. 1. 1. 1. 1. 1. 1. 1. 1. 1. 1.]\n",
      "Y sus atributos estadísticos son:\n",
      "Suma\n",
      "23.0\n",
      "Mínimo\n",
      "1.0\n",
      "Máximo\n",
      "1.0\n",
      "media\n",
      "1.0\n",
      "Suma acumulada\n",
      "[ 1.  2.  3.  4.  5.  6.  7.  8.  9. 10. 11. 12. 13. 14. 15. 16. 17. 18.\n",
      " 19. 20. 21. 22. 23.]\n",
      "Mediana\n",
      "1.0\n",
      "Coeficiente de correlación:\n",
      "nan\n",
      "Desviacion típica\n",
      "0.0\n",
      "-------------------------\n",
      "Has mandado este array de 1 dimensión: \n",
      "[10 15 20]\n",
      "Y sus atributos estadísticos son:\n",
      "Suma\n",
      "45\n",
      "Mínimo\n",
      "10\n",
      "Máximo\n",
      "20\n",
      "media\n",
      "15.0\n",
      "Suma acumulada\n",
      "[10 25 45]\n",
      "Mediana\n",
      "15.0\n",
      "Coeficiente de correlación:\n",
      "1.0\n",
      "Desviacion típica\n",
      "4.08248290463863\n",
      "-------------------------\n",
      "Has mandado este array de 1 dimensión: \n",
      "[0.   0.25 0.5  0.75 1.   1.25 1.5  1.75 2.  ]\n",
      "Y sus atributos estadísticos son:\n",
      "Suma\n",
      "9.0\n",
      "Mínimo\n",
      "0.0\n",
      "Máximo\n",
      "2.0\n",
      "media\n",
      "1.0\n",
      "Suma acumulada\n",
      "[0.   0.25 0.75 1.5  2.5  3.75 5.25 7.   9.  ]\n",
      "Mediana\n",
      "1.0\n",
      "Coeficiente de correlación:\n",
      "1.0\n",
      "Desviacion típica\n",
      "0.6454972243679028\n",
      "-------------------------\n",
      "Has mandado este array de 1 dimensión: \n",
      "[7 7 7 7 7 7 7 7 7 7 7 7 7 7 7 7 7 7 7 7 7 7 7 7 7 7 7 7 7 7 7 7 7]\n",
      "Y sus atributos estadísticos son:\n",
      "Suma\n",
      "231\n",
      "Mínimo\n",
      "7\n",
      "Máximo\n",
      "7\n",
      "media\n",
      "7.0\n",
      "Suma acumulada\n",
      "[  7  14  21  28  35  42  49  56  63  70  77  84  91  98 105 112 119 126\n",
      " 133 140 147 154 161 168 175 182 189 196 203 210 217 224 231]\n",
      "Mediana\n",
      "7.0\n",
      "Coeficiente de correlación:\n",
      "nan\n",
      "Desviacion típica\n",
      "0.0\n",
      "-------------------------\n",
      "Has mandado este array de 1 dimensión: \n",
      "[0.78843053 0.1351764  0.71560741 0.12095627 0.83549057 0.69898017\n",
      " 0.82919514 0.86811019 0.95521543 0.1137361 ]\n",
      "Y sus atributos estadísticos son:\n",
      "Suma\n",
      "6.06089820067194\n",
      "Mínimo\n",
      "0.11373609803495921\n",
      "Máximo\n",
      "0.9552154309294497\n",
      "media\n",
      "0.606089820067194\n",
      "Suma acumulada\n",
      "[0.78843053 0.92360693 1.63921433 1.7601706  2.59566118 3.29464134\n",
      " 4.12383648 4.99194667 5.9471621  6.0608982 ]\n",
      "Mediana\n",
      "0.7520189683680949\n",
      "Coeficiente de correlación:\n",
      "1.0\n",
      "Desviacion típica\n",
      "0.32347196301603864\n",
      "-------------------------\n"
     ]
    }
   ],
   "source": [
    "zeros = np.zeros((1,5))\n",
    "print(zeros)\n",
    "zeros = np.zeros(5)\n",
    "estadisticasArray1D(zeros)  \n",
    "ones = np.ones(23)\n",
    "estadisticasArray1D(ones)\n",
    "aranged = np.arange(10,25,5)\n",
    "estadisticasArray1D(aranged) \n",
    "arangedNumberOfValues =np.linspace(0,2,9)\n",
    "estadisticasArray1D(arangedNumberOfValues)\n",
    "constante = np.full(33,7) \n",
    "estadisticasArray1D(constante)\n",
    "estocastico = np.random.random(10)\n",
    "estadisticasArray1D(estocastico)"
   ]
  },
  {
   "cell_type": "markdown",
   "metadata": {},
   "source": [
    "Importante, cuando creas un array/matriz de estas, para 1 dimensiòn hay que poner solo el nùmero de elementos. Para màs dimensiones sì hay que indicar la tupla de la forma"
   ]
  },
  {
   "cell_type": "code",
   "execution_count": null,
   "metadata": {},
   "outputs": [],
   "source": []
  }
 ],
 "metadata": {
  "kernelspec": {
   "display_name": "Python 3",
   "language": "python",
   "name": "python3"
  },
  "language_info": {
   "codemirror_mode": {
    "name": "ipython",
    "version": 3
   },
   "file_extension": ".py",
   "mimetype": "text/x-python",
   "name": "python",
   "nbconvert_exporter": "python",
   "pygments_lexer": "ipython3",
   "version": "3.7.6"
  }
 },
 "nbformat": 4,
 "nbformat_minor": 4
}
