{
 "cells": [
  {
   "cell_type": "markdown",
   "id": "9c8d4a89",
   "metadata": {},
   "source": [
    "## Exercici 4\n",
    "\n",
    "Crea un diccionari de la següent forma i respon a les preguntes:\n",
    "\n",
    "compra = { \"Pomes\" : {\"Qty\": 5, \"€\": 0.42}, \"Peres\" : {\"Qty\": 3, \"€\": 0.66} }\n",
    "\n",
    "    Afegeix alguna fruita més\n",
    "    Quant han costat les peres en total?\n",
    "    Quantes fruites hem comprat en total?\n",
    "    Quina és la fruita més cara?"
   ]
  },
  {
   "cell_type": "code",
   "execution_count": 1,
   "id": "00f85b27",
   "metadata": {},
   "outputs": [
    {
     "data": {
      "text/plain": [
       "{'Pomes': {'Qty': 5, '€': 0.42}, 'Peres': {'Qty': 3, '€': 0.66}}"
      ]
     },
     "execution_count": 1,
     "metadata": {},
     "output_type": "execute_result"
    }
   ],
   "source": [
    "compra = { \"Pomes\" : {\"Qty\": 5, \"€\": 0.42}, \"Peres\" : {\"Qty\": 3, \"€\": 0.66} }\n",
    "compra"
   ]
  },
  {
   "cell_type": "code",
   "execution_count": 2,
   "id": "d86873ac",
   "metadata": {},
   "outputs": [
    {
     "data": {
      "text/plain": [
       "{'Pomes': {'Qty': 5, '€': 0.42},\n",
       " 'Peres': {'Qty': 3, '€': 0.66},\n",
       " 'Advocat': {'Qty': 2, '€': 1.5}}"
      ]
     },
     "execution_count": 2,
     "metadata": {},
     "output_type": "execute_result"
    }
   ],
   "source": [
    "# Afegeix alguna fruita més\n",
    "compra[\"Advocat\"]= {\"Qty\": 2, \"€\": 1.5}\n",
    "compra"
   ]
  },
  {
   "cell_type": "markdown",
   "id": "3b08b1b6",
   "metadata": {},
   "source": [
    "Recordar poner la coma decimal como punto o si no python no trata eso como un float y hará cosas raras"
   ]
  },
  {
   "cell_type": "code",
   "execution_count": 3,
   "id": "e8bd9693",
   "metadata": {},
   "outputs": [
    {
     "data": {
      "text/plain": [
       "{'Pomes': {'Qty': 6, '€': 0.42},\n",
       " 'Peres': {'Qty': 3, '€': 0.66},\n",
       " 'Advocat': {'Qty': 2, '€': 1.5}}"
      ]
     },
     "execution_count": 3,
     "metadata": {},
     "output_type": "execute_result"
    }
   ],
   "source": [
    "compra[\"Pomes\"][\"Qty\"] += 1\n",
    "compra"
   ]
  },
  {
   "cell_type": "markdown",
   "id": "82299f5a",
   "metadata": {},
   "source": [
    "Recordar que aquí no valdría el ++ o el -- de C o javascript\n"
   ]
  },
  {
   "cell_type": "code",
   "execution_count": 5,
   "id": "64e20bd1",
   "metadata": {},
   "outputs": [
    {
     "data": {
      "text/plain": [
       "1.98"
      ]
     },
     "execution_count": 5,
     "metadata": {},
     "output_type": "execute_result"
    }
   ],
   "source": [
    "#Quant han costat les peres en total?\n",
    "\n",
    "cost = compra[\"Peres\"][\"Qty\"] * compra[\"Peres\"][\"€\"]\n",
    "cost\n",
    "\n"
   ]
  },
  {
   "cell_type": "code",
   "execution_count": 6,
   "id": "e653fd75",
   "metadata": {},
   "outputs": [
    {
     "data": {
      "text/plain": [
       "7.5"
      ]
     },
     "execution_count": 6,
     "metadata": {},
     "output_type": "execute_result"
    }
   ],
   "source": [
    "# Tota la fruita\n",
    "cost = 0\n",
    "\n",
    "for fruita in compra:\n",
    "    cost += compra[fruita][\"Qty\"] * compra[fruita][\"€\"]\n",
    "    \n",
    "cost"
   ]
  },
  {
   "cell_type": "markdown",
   "id": "96555c8b",
   "metadata": {},
   "source": [
    "Recordar que es += y no =+\n"
   ]
  },
  {
   "cell_type": "code",
   "execution_count": 7,
   "id": "df060d86",
   "metadata": {},
   "outputs": [
    {
     "data": {
      "text/plain": [
       "'Advocat'"
      ]
     },
     "execution_count": 7,
     "metadata": {},
     "output_type": "execute_result"
    }
   ],
   "source": [
    "#Quina és la fruita més cara?\n",
    "fruitaMesCara = list(compra.keys())[0]\n",
    "\n",
    "for fruita in compra:\n",
    "    if compra[fruita][\"€\"] > compra[fruitaMesCara][\"€\"]:\n",
    "       fruitaMesCara = fruita\n",
    "fruitaMesCara\n",
    "    "
   ]
  },
  {
   "cell_type": "markdown",
   "id": "66a33fd5",
   "metadata": {},
   "source": [
    "Aquí he tenido un problema, para generalizar, suponiendo que no conozco las llaves del diccionario, quiero coger la primera para poder hacer el truco de ir yendo al máximo. compra.keys()[0] no funciona porque da un error de que la lista de las llaves no es suscribible (subscriptable) porque es un dict_keys\n",
    "\n",
    "Al final utlizando esto sí me sale la solución. Había que hacer una conversión para que tragase https://stackoverflow.com/questions/30362391/how-do-you-find-the-first-key-in-a-dictionary\n"
   ]
  },
  {
   "cell_type": "code",
   "execution_count": null,
   "id": "58b0a36a",
   "metadata": {},
   "outputs": [],
   "source": []
  }
 ],
 "metadata": {
  "kernelspec": {
   "display_name": "Python 3",
   "language": "python",
   "name": "python3"
  },
  "language_info": {
   "codemirror_mode": {
    "name": "ipython",
    "version": 3
   },
   "file_extension": ".py",
   "mimetype": "text/x-python",
   "name": "python",
   "nbconvert_exporter": "python",
   "pygments_lexer": "ipython3",
   "version": "3.8.8"
  }
 },
 "nbformat": 4,
 "nbformat_minor": 5
}
