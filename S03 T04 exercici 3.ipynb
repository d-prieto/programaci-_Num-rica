{
 "cells": [
  {
   "cell_type": "markdown",
   "id": "8434b603",
   "metadata": {},
   "source": [
    "# Exercici 3\n",
    "\n",
    "Crea una funció que donada una taula de dues dimensions, et calculi els totals per fila i els totals per columna.\n",
    "\n",
    "Primero vamos a ver que le pasamos un array de 2 dimensiones. Para hacer eso me baso en ejrecios anteriores. Después veo que la misma propiedad de sum tiene capacidad de ir por columna. https://numpy.org/doc/stable/reference/generated/numpy.sum.html"
   ]
  },
  {
   "cell_type": "code",
   "execution_count": 2,
   "id": "513c241e",
   "metadata": {},
   "outputs": [],
   "source": [
    "import numpy as np"
   ]
  },
  {
   "cell_type": "code",
   "execution_count": 16,
   "id": "73be798f",
   "metadata": {},
   "outputs": [],
   "source": [
    "a = np.array([(1,2,3), (4,5,6)])  \n",
    "arr = np.array([[1, 2, 3, 4], [5, 6, 7, 8]])\n",
    "b = np.random.random((5,3))"
   ]
  },
  {
   "cell_type": "code",
   "execution_count": 22,
   "id": "ea54315c",
   "metadata": {},
   "outputs": [],
   "source": [
    "def sumaPorFilasYcolumnas (array):\n",
    "    if type(array) is not np.ndarray:\n",
    "        print(\"Lo que has mandado no es ni tan siquiera un Array\")\n",
    "        return\n",
    "    elif array.ndim != 2:\n",
    "        print(\"El array no tiene 2 y solo 2 dimensiones\")\n",
    "        return\n",
    "    print(\"La suma de las columnas es la siguiente:\")\n",
    "    print(array.sum(axis=0))\n",
    "    print(\"La suma de las filas es la siguiente:\")\n",
    "    print(array.sum(axis=1))"
   ]
  },
  {
   "cell_type": "code",
   "execution_count": 24,
   "id": "e2dc1fb8",
   "metadata": {},
   "outputs": [
    {
     "name": "stdout",
     "output_type": "stream",
     "text": [
      "La suma de las columnas es la siguiente:\n",
      "[5 7 9]\n",
      "La suma de las filas es la siguiente:\n",
      "[ 6 15]\n",
      "La suma de las columnas es la siguiente:\n",
      "[ 6  8 10 12]\n",
      "La suma de las filas es la siguiente:\n",
      "[10 26]\n",
      "La suma de las columnas es la siguiente:\n",
      "[3.04959306 1.81343023 1.2335018 ]\n",
      "La suma de las filas es la siguiente:\n",
      "[1.07966842 1.81434868 0.75898184 1.25829487 1.18523128]\n"
     ]
    }
   ],
   "source": [
    "sumaPorFilasYcolumnas(a)\n",
    "sumaPorFilasYcolumnas(arr)\n",
    "sumaPorFilasYcolumnas(b)"
   ]
  },
  {
   "cell_type": "code",
   "execution_count": null,
   "id": "072f493d",
   "metadata": {},
   "outputs": [],
   "source": []
  }
 ],
 "metadata": {
  "kernelspec": {
   "display_name": "Python 3",
   "language": "python",
   "name": "python3"
  },
  "language_info": {
   "codemirror_mode": {
    "name": "ipython",
    "version": 3
   },
   "file_extension": ".py",
   "mimetype": "text/x-python",
   "name": "python",
   "nbconvert_exporter": "python",
   "pygments_lexer": "ipython3",
   "version": "3.8.8"
  }
 },
 "nbformat": 4,
 "nbformat_minor": 5
}
