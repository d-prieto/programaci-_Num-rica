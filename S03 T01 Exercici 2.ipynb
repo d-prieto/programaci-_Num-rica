{
 "cells": [
  {
   "cell_type": "markdown",
   "id": "244a9ce3",
   "metadata": {},
   "source": [
    "## Exercici 2\n",
    "\n",
    "Crea un codi que et permeti accedir a:\n",
    "\n",
    "    El segon mes del primer trimestre\n",
    "    Els mesos del primer trimestre\n",
    "    Setembre i octubre"
   ]
  },
  {
   "cell_type": "code",
   "execution_count": 1,
   "id": "a360619f",
   "metadata": {},
   "outputs": [],
   "source": [
    "trimestres = ((\"January\", \"February\", \"March\"), (\"April\", \"May\", \"June\"), (\"July\", \"Agoust\", \"September\"), (\"October\", \"November\", \"December\"))"
   ]
  },
  {
   "cell_type": "code",
   "execution_count": 2,
   "id": "c52d99d4",
   "metadata": {},
   "outputs": [
    {
     "data": {
      "text/plain": [
       "'February'"
      ]
     },
     "execution_count": 2,
     "metadata": {},
     "output_type": "execute_result"
    }
   ],
   "source": [
    "trimestres[0][1]"
   ]
  },
  {
   "cell_type": "code",
   "execution_count": 3,
   "id": "3141cfbd",
   "metadata": {},
   "outputs": [
    {
     "data": {
      "text/plain": [
       "('January', 'February', 'March')"
      ]
     },
     "execution_count": 3,
     "metadata": {},
     "output_type": "execute_result"
    }
   ],
   "source": [
    "trimestres[0]"
   ]
  },
  {
   "cell_type": "code",
   "execution_count": 4,
   "id": "a8887ca7",
   "metadata": {},
   "outputs": [
    {
     "data": {
      "text/plain": [
       "('September', 'October')"
      ]
     },
     "execution_count": 4,
     "metadata": {},
     "output_type": "execute_result"
    }
   ],
   "source": [
    "septemberAndOctober = (trimestres[2][2], trimestres[3][0])\n",
    "septemberAndOctober"
   ]
  },
  {
   "cell_type": "code",
   "execution_count": null,
   "id": "1cb47ccc",
   "metadata": {},
   "outputs": [],
   "source": []
  }
 ],
 "metadata": {
  "kernelspec": {
   "display_name": "Python 3",
   "language": "python",
   "name": "python3"
  },
  "language_info": {
   "codemirror_mode": {
    "name": "ipython",
    "version": 3
   },
   "file_extension": ".py",
   "mimetype": "text/x-python",
   "name": "python",
   "nbconvert_exporter": "python",
   "pygments_lexer": "ipython3",
   "version": "3.8.8"
  }
 },
 "nbformat": 4,
 "nbformat_minor": 5
}
