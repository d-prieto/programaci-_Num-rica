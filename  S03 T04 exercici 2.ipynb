{
 "cells": [
  {
   "cell_type": "markdown",
   "id": "5b888f22",
   "metadata": {},
   "source": [
    "# Exercici 2\n",
    "\n",
    "Crea una funció que et generi un quadrat NxN de nombres aleatoris entre el 0 i el 100.\n",
    "\n",
    "Que bien que en el ejercicio 1 practiqué los placeholders. Puedo hacer una de nxn entre 0 y 1 y multiplicar todos los números por 100. \n"
   ]
  },
  {
   "cell_type": "code",
   "execution_count": 2,
   "id": "82ff605b",
   "metadata": {},
   "outputs": [],
   "source": [
    "import numpy as np"
   ]
  },
  {
   "cell_type": "code",
   "execution_count": 4,
   "id": "634f5b08",
   "metadata": {},
   "outputs": [],
   "source": [
    "def cuadradoAleatorio (n = 2):\n",
    "    if type(n) is not int:\n",
    "        print(\"No has mandado a cuadradoAleatorio un número así que no esperes que funcione bien\")\n",
    "        return\n",
    "    return np.random.random((n,n)) * 100\n",
    "    "
   ]
  },
  {
   "cell_type": "code",
   "execution_count": 5,
   "id": "edce296f",
   "metadata": {},
   "outputs": [
    {
     "name": "stdout",
     "output_type": "stream",
     "text": [
      "[[10.74595872 16.20767913 65.66748636 23.8899696 ]\n",
      " [79.32119537 70.94595233 24.53780081 31.67755793]\n",
      " [37.68088239 62.25062897 56.41935191 61.28823449]\n",
      " [34.49296676 88.43522187 34.63973555 69.40415452]]\n"
     ]
    }
   ],
   "source": [
    "print(cuadradoAleatorio(4))"
   ]
  },
  {
   "cell_type": "markdown",
   "id": "5fdae69c",
   "metadata": {},
   "source": [
    "Tres horas para hacer el anterior y este lo saco en 10 minutos. Ni tan siquiera he tenido problema en multiplicar por un escalar. "
   ]
  },
  {
   "cell_type": "code",
   "execution_count": null,
   "id": "63506d3a",
   "metadata": {},
   "outputs": [],
   "source": []
  }
 ],
 "metadata": {
  "kernelspec": {
   "display_name": "Python 3",
   "language": "python",
   "name": "python3"
  },
  "language_info": {
   "codemirror_mode": {
    "name": "ipython",
    "version": 3
   },
   "file_extension": ".py",
   "mimetype": "text/x-python",
   "name": "python",
   "nbconvert_exporter": "python",
   "pygments_lexer": "ipython3",
   "version": "3.8.8"
  }
 },
 "nbformat": 4,
 "nbformat_minor": 5
}
