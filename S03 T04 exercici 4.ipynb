{
 "cells": [
  {
   "cell_type": "markdown",
   "id": "f6394cdd",
   "metadata": {},
   "source": [
    "# Exercici 4\n",
    "\n",
    "Implementa manualment una funció que calculi el coeficient de correlació. Informa’t-en sobre els seus usos i interpretació."
   ]
  },
  {
   "cell_type": "markdown",
   "id": "b7c81b8d",
   "metadata": {},
   "source": [
    "Pues nada, vamos a darle. El coeficiente de correlación es cuanto se parecen a una recta una cantidad de datos. Para no irnos con _movidas_ creo que vamos a dejarlo con 2 variables. \n",
    "\n",
    "https://es.wikipedia.org/wiki/Coeficiente_de_correlaci%C3%B3n_de_Pearson\n",
    "\n",
    "Para esto vamos a hacer lo siguiente. Voy a suponer un array de 1 dimensión que son los valores de X. Después otro array de 1 dimensión que sean los valores de Y. Ambos tienen que tener la misma forma y exactamente 1 dimensión, así que eso será lo primero que probemos."
   ]
  },
  {
   "cell_type": "code",
   "execution_count": 1,
   "id": "0c1abd82",
   "metadata": {},
   "outputs": [],
   "source": [
    "import numpy as np"
   ]
  },
  {
   "cell_type": "code",
   "execution_count": 7,
   "id": "80d95f60",
   "metadata": {},
   "outputs": [],
   "source": [
    "def coeficienteCorrelacionXy(x,y):\n",
    "    if type(x) is not np.ndarray or type(y) is not np.ndarray :\n",
    "        print(\"Lo que has mandado no es ni tan siquiera un Array\")\n",
    "        return\n",
    "    elif x.ndim != 1 or y.ndim !=1:\n",
    "        print(\"El array no tiene una y solo 1 dimension\")\n",
    "        return\n",
    "    elif x.shape != y.shape:\n",
    "        print(\"Los arrays x e Y no tienen el mismo tamaño\")\n",
    "        return\n",
    "    print(\"-------------\")\n",
    "    print(\"Has mandado lo siguiente. Como valores en X: \")\n",
    "    print(x)\n",
    "    print(\"Y como valores en Y: \")\n",
    "    print(y)\n",
    "    numerador =0\n",
    "    mediaX = x.mean()\n",
    "    mediaY = y.mean()\n",
    "    for xi in x:\n",
    "        numerador += (xi - mediaX)*(y[xi] - mediaY)\n",
    "    divisorX = 0\n",
    "    divisorY = 0\n",
    "    for xi in x:\n",
    "        divisorX += (xi - mediaX)**2\n",
    "    for yi in y:\n",
    "        divisorY += (yi - mediaY)**2\n",
    "    divisor = divisorX**0.5 * divisorY**0.5\n",
    "    coefCorr = numerador /divisor\n",
    "    return coefCorr"
   ]
  },
  {
   "cell_type": "markdown",
   "id": "d00ef273",
   "metadata": {},
   "source": [
    "Para calcular el coeficiente de correlación (el de pearson) vamos a hacer lo siguiente: \n",
    "\n",
    "Por un lado necesitamos las medias y, hacer una serie de sumatorios y raices. \n",
    "\n",
    "En el lado del demonidador tendremos la dferencia de cada uno de los elementos x con la media de x multiplicado por la diferencia de cada uno de los elementos con la media. Todo ello sumado. \n",
    "\n",
    "```python\n",
    "   numerador =0\n",
    "   mediaX = x.mean()\n",
    "   mediaY = y.mean()\n",
    "   for xi in x:\n",
    "        numerador += (xi - mediaX)*(y[xi] - mediaY)\n",
    "\n",
    "```\n",
    "\n",
    "De momento esto no rompe nada cuando le digo print(numerador) ahora hagamos los denominadores. \n",
    "\n",
    "```python\n",
    "   divisorX = 0\n",
    "   divisorY = 0\n",
    "   for xi in x:\n",
    "        divisorX += (xi - mediaX)**2\n",
    "   for yi in y:\n",
    "        divisorY += (yi - mediaY)**2\n",
    "        \n",
    "   divisor = divisorX**0.5 * divisorY**0.5\n",
    "\n",
    "```\n",
    "\n",
    "Se podría hacer una única iteración para el numerador  y los dos divisores que sería más optimizado (para números grandes) pero esto ya es bastante fiesta de la espuma. \n",
    "\n",
    "Ya con esto ya podemos hacer numerador entre divisor y salirnos. "
   ]
  },
  {
   "cell_type": "code",
   "execution_count": 5,
   "id": "17ca07f1",
   "metadata": {},
   "outputs": [],
   "source": [
    "prueba1 = np.array([0,1,2])\n",
    "prueba2 = np.array([2,3,4])"
   ]
  },
  {
   "cell_type": "code",
   "execution_count": 8,
   "id": "8d898b2d",
   "metadata": {},
   "outputs": [
    {
     "name": "stdout",
     "output_type": "stream",
     "text": [
      "-------------\n",
      "Has mandado lo siguiente. Como valores en X: \n",
      "[0 1 2]\n",
      "Y como valores en Y: \n",
      "[2 3 4]\n"
     ]
    },
    {
     "data": {
      "text/plain": [
       "0.9999999999999998"
      ]
     },
     "execution_count": 8,
     "metadata": {},
     "output_type": "execute_result"
    }
   ],
   "source": [
    "coeficienteCorrelacionXy(prueba1,prueba2)"
   ]
  },
  {
   "cell_type": "code",
   "execution_count": null,
   "id": "0731a9f8",
   "metadata": {},
   "outputs": [],
   "source": []
  }
 ],
 "metadata": {
  "kernelspec": {
   "display_name": "Python 3",
   "language": "python",
   "name": "python3"
  },
  "language_info": {
   "codemirror_mode": {
    "name": "ipython",
    "version": 3
   },
   "file_extension": ".py",
   "mimetype": "text/x-python",
   "name": "python",
   "nbconvert_exporter": "python",
   "pygments_lexer": "ipython3",
   "version": "3.8.8"
  }
 },
 "nbformat": 4,
 "nbformat_minor": 5
}
